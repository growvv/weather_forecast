{
 "cells": [
  {
   "cell_type": "code",
   "execution_count": 2,
   "id": "21382225",
   "metadata": {},
   "outputs": [],
   "source": [
    "from netCDF4 import Dataset"
   ]
  },
  {
   "cell_type": "code",
   "execution_count": 3,
   "id": "49e917d3",
   "metadata": {},
   "outputs": [
    {
     "name": "stdout",
     "output_type": "stream",
     "text": [
      "<class 'netCDF4._netCDF4.Dataset'>\n",
      "root group (NETCDF4 data model, file format HDF5):\n",
      "    dimensions(sizes): time(16), lat(241), lon(301)\n",
      "    variables(dimensions): float32 time(time), float64 lat(lat), float64 lon(lon), float32 precipitation(time, lat, lon)\n",
      "    groups: \n"
     ]
    }
   ],
   "source": [
    "filename = \"FDP+EC/MSP2_PMSC_AIWSRPF_ECORI_L88_NCN_202105270000_00000-04800.nc\"\n",
    "nc_object = Dataset(filename)\n",
    "print(nc_object)"
   ]
  },
  {
   "cell_type": "code",
   "execution_count": 4,
   "id": "518d2a08",
   "metadata": {},
   "outputs": [
    {
     "name": "stdout",
     "output_type": "stream",
     "text": [
      "dict_keys(['time', 'lat', 'lon', 'precipitation'])\n"
     ]
    }
   ],
   "source": [
    "print(nc_object.variables.keys())"
   ]
  },
  {
   "cell_type": "code",
   "execution_count": 39,
   "id": "70d5b54f",
   "metadata": {},
   "outputs": [
    {
     "name": "stdout",
     "output_type": "stream",
     "text": [
      "16\n"
     ]
    }
   ],
   "source": [
    "print(len(nc_object.variables['time']))"
   ]
  },
  {
   "cell_type": "code",
   "execution_count": 29,
   "id": "0bc67a13",
   "metadata": {},
   "outputs": [
    {
     "name": "stdout",
     "output_type": "stream",
     "text": [
      "360.0\n",
      "42.95\n",
      "109.05\n"
     ]
    }
   ],
   "source": [
    "time = nc_object.variables[\"time\"]\n",
    "lat = nc_object.variables[\"lat\"][1]\n",
    "lon= nc_object.variables[\"lon\"][1]\n",
    "\n",
    "print(time)\n",
    "print(lat)\n",
    "print(lon)"
   ]
  },
  {
   "cell_type": "code",
   "execution_count": 33,
   "id": "8d53d408",
   "metadata": {},
   "outputs": [
    {
     "data": {
      "text/plain": [
       "0.14076233"
      ]
     },
     "execution_count": 33,
     "metadata": {},
     "output_type": "execute_result"
    }
   ],
   "source": [
    "# print(len(nc_object.variables['precipitation'][(time, lat, lon)]))\n",
    "nc_object.variables['precipitation'][0][1][1]"
   ]
  },
  {
   "cell_type": "code",
   "execution_count": 4,
   "id": "f93d490d",
   "metadata": {},
   "outputs": [],
   "source": [
    "import pandas as pd\n",
    "\n",
    "data = pd.read_csv(\"武大桩号.csv\")"
   ]
  },
  {
   "cell_type": "code",
   "execution_count": 5,
   "id": "f6f6aef7",
   "metadata": {},
   "outputs": [
    {
     "name": "stdout",
     "output_type": "stream",
     "text": [
      "         公路桩号     name        lat         lon\n",
      "0  byl_bc_0_i   野鸡山隧道北  41.056541  115.489376\n",
      "1  byl_bc_1_i   野鸡山隧道南  41.042786  115.496886\n",
      "2  byl_bc_2_i   隔河寨隧道北  40.701358  115.950190\n",
      "3  byl_bc_3_i   隔河寨隧道南  40.700479  115.951005\n",
      "4  byl_bc_4_i  陈家后山隧道北  40.698129  115.952679\n"
     ]
    }
   ],
   "source": [
    "print(data.head(5))"
   ]
  },
  {
   "cell_type": "code",
   "execution_count": 6,
   "id": "7ccf2f00",
   "metadata": {},
   "outputs": [
    {
     "name": "stdout",
     "output_type": "stream",
     "text": [
      "           公路桩号     name        lat         lon\n",
      "0    byl_bc_0_i   野鸡山隧道北  41.056541  115.489376\n",
      "1    byl_bc_1_i   野鸡山隧道南  41.042786  115.496886\n",
      "2    byl_bc_2_i   隔河寨隧道北  40.701358  115.950190\n",
      "3    byl_bc_3_i   隔河寨隧道南  40.700479  115.951005\n",
      "4    byl_bc_4_i  陈家后山隧道北  40.698129  115.952679\n",
      "..          ...      ...        ...         ...\n",
      "686    G6-318_r      NaN  41.517628  115.621713\n",
      "687    G6-319_r      NaN  41.526335  115.626630\n",
      "688    G6-320_r      NaN  41.534459  115.632331\n",
      "689    G6-321_r      NaN  41.539686  115.640856\n",
      "690    G6-322_r      NaN  41.544444  115.649651\n",
      "\n",
      "[691 rows x 4 columns]\n"
     ]
    }
   ],
   "source": [
    "print(data)"
   ]
  },
  {
   "cell_type": "code",
   "execution_count": 7,
   "id": "3b935157",
   "metadata": {},
   "outputs": [
    {
     "ename": "ModuleNotFoundError",
     "evalue": "No module named 'pymysql'",
     "output_type": "error",
     "traceback": [
      "\u001b[0;31m---------------------------------------------------------------------------\u001b[0m",
      "\u001b[0;31mModuleNotFoundError\u001b[0m                       Traceback (most recent call last)",
      "\u001b[0;32m<ipython-input-7-ac5495286704>\u001b[0m in \u001b[0;36m<module>\u001b[0;34m\u001b[0m\n\u001b[0;32m----> 1\u001b[0;31m \u001b[0;32mimport\u001b[0m \u001b[0mpymysql\u001b[0m\u001b[0;34m\u001b[0m\u001b[0;34m\u001b[0m\u001b[0m\n\u001b[0m\u001b[1;32m      2\u001b[0m \u001b[0;34m\u001b[0m\u001b[0m\n\u001b[1;32m      3\u001b[0m \u001b[0mdb\u001b[0m \u001b[0;34m=\u001b[0m \u001b[0mpymysql\u001b[0m\u001b[0;34m.\u001b[0m\u001b[0mconnect\u001b[0m\u001b[0;34m(\u001b[0m\u001b[0mhost\u001b[0m\u001b[0;34m=\u001b[0m\u001b[0;34m\"localhost\"\u001b[0m\u001b[0;34m,\u001b[0m \u001b[0muser\u001b[0m\u001b[0;34m=\u001b[0m\u001b[0;34m\"root\"\u001b[0m\u001b[0;34m,\u001b[0m \u001b[0mpassword\u001b[0m\u001b[0;34m=\u001b[0m\u001b[0;34m\"lfr139931\"\u001b[0m\u001b[0;34m,\u001b[0m \u001b[0mdatabase\u001b[0m\u001b[0;34m=\u001b[0m\u001b[0;34m\"climate\"\u001b[0m\u001b[0;34m)\u001b[0m\u001b[0;34m\u001b[0m\u001b[0;34m\u001b[0m\u001b[0m\n\u001b[1;32m      4\u001b[0m \u001b[0mcursor\u001b[0m \u001b[0;34m=\u001b[0m \u001b[0mdb\u001b[0m\u001b[0;34m.\u001b[0m\u001b[0mcursor\u001b[0m\u001b[0;34m(\u001b[0m\u001b[0;34m)\u001b[0m\u001b[0;34m\u001b[0m\u001b[0;34m\u001b[0m\u001b[0m\n",
      "\u001b[0;31mModuleNotFoundError\u001b[0m: No module named 'pymysql'"
     ]
    }
   ],
   "source": [
    "import pymysql\n",
    "\n",
    "db = pymysql.connect(host=\"localhost\", user=\"root\", password=\"lfr139931\", database=\"climate\")\n",
    "cursor = db.cursor()"
   ]
  },
  {
   "cell_type": "code",
   "execution_count": null,
   "id": "3d6eeaae",
   "metadata": {},
   "outputs": [],
   "source": [
    "sql = \"show tables\"\n",
    "res = cursor.execute(sql)"
   ]
  },
  {
   "cell_type": "code",
   "execution_count": null,
   "id": "1614471e",
   "metadata": {},
   "outputs": [],
   "source": []
  },
  {
   "cell_type": "code",
   "execution_count": null,
   "id": "c5010cd9",
   "metadata": {},
   "outputs": [],
   "source": []
  },
  {
   "cell_type": "code",
   "execution_count": null,
   "id": "e2f3820a",
   "metadata": {},
   "outputs": [],
   "source": []
  }
 ],
 "metadata": {
  "kernelspec": {
   "display_name": "Python 3",
   "language": "python",
   "name": "python3"
  },
  "language_info": {
   "codemirror_mode": {
    "name": "ipython",
    "version": 3
   },
   "file_extension": ".py",
   "mimetype": "text/x-python",
   "name": "python",
   "nbconvert_exporter": "python",
   "pygments_lexer": "ipython3",
   "version": "3.8.10"
  }
 },
 "nbformat": 4,
 "nbformat_minor": 5
}
